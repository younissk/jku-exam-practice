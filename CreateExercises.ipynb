{
 "cells": [
  {
   "cell_type": "code",
   "execution_count": 1,
   "metadata": {},
   "outputs": [],
   "source": [
    "from openai import OpenAI\n",
    "import json\n",
    "from tqdm import tqdm"
   ]
  },
  {
   "cell_type": "code",
   "execution_count": 2,
   "metadata": {},
   "outputs": [],
   "source": [
    "client = OpenAI(api_key=\"sk-proj-hYwb3SqXo9htbCmbJujtT3BlbkFJ06RXgF7vRxH7pydrv5fu\")"
   ]
  },
  {
   "cell_type": "code",
   "execution_count": 3,
   "metadata": {},
   "outputs": [],
   "source": [
    "from langchain_core.pydantic_v1 import BaseModel, Field\n",
    "from typing import List\n",
    "from pydantic import BaseModel, Field\n",
    "from langchain_core.output_parsers import JsonOutputParser\n",
    "\n",
    "class QuestionInformation(BaseModel):\n",
    "    \"\"\"Information about the Question.\"\"\"\n",
    "    id: str = Field(description=\"The ID of the question\")\n",
    "    courseId: str = Field(description=\"The ID of the course\")\n",
    "    source: str = Field(description=\"The source of the question (e.g. Exam, Quiz, etc.)\")\n",
    "    year: str = Field(description=\"The year the question was asked\")\n",
    "    topics: list[str] = Field(description=\"The topics covered by the question in a list of strings\")\n",
    "    type: str = Field(description=\"The type of the question (e.g. MCQ, True/False, etc.)\")\n",
    "    question: str = Field(description=\"The question in HTML format\")\n",
    "    correctAnswer: list[str] = Field(description=\"The correct answer/s to the question \")\n",
    "    \n",
    "\n",
    "parser = JsonOutputParser(pydantic_object=QuestionInformation)"
   ]
  },
  {
   "cell_type": "code",
   "execution_count": 4,
   "metadata": {},
   "outputs": [],
   "source": [
    "from langchain.chains import TransformChain\n",
    "from langchain_core.messages import HumanMessage\n",
    "from langchain_openai import ChatOpenAI\n",
    "from langchain import globals\n",
    "from langchain_core.runnables import chain"
   ]
  },
  {
   "cell_type": "code",
   "execution_count": 5,
   "metadata": {},
   "outputs": [],
   "source": [
    "@chain\n",
    "def question_model(inputs: dict) -> str | list[str] | dict:\n",
    "    \"\"\"Invoke model with image and prompt.\"\"\"\n",
    "    model = ChatOpenAI(temperature=0.5, model=\"gpt-3.5-turbo\", api_key=\"sk-proj-hYwb3SqXo9htbCmbJujtT3BlbkFJ06RXgF7vRxH7pydrv5fu\")\n",
    "    msg = model.invoke(\n",
    "        [HumanMessage(\n",
    "            content=[\n",
    "                {\"type\": \"text\", \"text\": inputs[\"prompt\"]},\n",
    "                {\"type\": \"text\", \"text\": parser.get_format_instructions()},\n",
    "                {\"type\": \"text\", \"text\": inputs[\"question\"]},\n",
    "            ])]\n",
    "    )\n",
    "    return msg.content"
   ]
  },
  {
   "cell_type": "code",
   "execution_count": 14,
   "metadata": {},
   "outputs": [],
   "source": [
    "source = \"Exam\"\n",
    "courseId = \"qaGEDqLkQZwb34UTsHOf\"\n",
    "year = \"2023\"\n",
    "topics = [\n",
    "    \"1. Project Design\",\n",
    "    \"2. Resources\",\n",
    "    \"3. Git\",\n",
    "    \"4. Data Analysis\",\n",
    "    \"5. Data Loading\",\n",
    "    \"6. Neural Network inference\",\n",
    "    \"7. Neural Network Training\",\n",
    "    \"8. Data Augmentation\",\n",
    "    \"9. Evaluation\",\n",
    "    \"10. TorchScript\",\n",
    "]"
   ]
  },
  {
   "cell_type": "code",
   "execution_count": 7,
   "metadata": {},
   "outputs": [],
   "source": [
    "\n",
    "INSTRUCTIONS_PROMPT = f\"\"\"\n",
    "You will be given a JSON object which is a question from a specific test. I want you to\n",
    "analyse it and return a JSON object using the following Interface as a template:\n",
    "\n",
    "interface Question:\n",
    "  id: string;\n",
    "  courseId: string;\n",
    "  source: string;\n",
    "  year: string;\n",
    "  topics: string;\n",
    "  type: QuestionType;\n",
    "  question: string;\n",
    "  correctAnswer: string | string[];\n",
    "\n",
    "\n",
    "enum QuestionType:\n",
    "  MultipleChoice = \"MultipleChoice\",\n",
    "  TrueFalse = \"TrueFalse\",\n",
    "\n",
    "\n",
    "interface MultipleChoiceQuestion extends Question:\n",
    "  type: QuestionType.MultipleChoice;\n",
    "  options: string[];\n",
    "\n",
    "\n",
    "use the following input to fill in the gaps:\n",
    "courseId: {courseId}\n",
    "source: {source}\n",
    "year: {year}\n",
    "topics list (Pick and choose from this list): {topics}\n",
    "\n",
    "=== EXAMPLE INPUT ===\n",
    "id: \"q2\",\n",
    "question:\n",
    "  \"<h3>You want to predict if the current image contains a traffic sign, a car, or a street. For each of the three objects, a prediction should be made. All three objects may occur in the image at the same time. This is a</h3>\",\n",
    "options: [\n",
    "  \"a. binary classification task\",\n",
    "  \"b. multilabel classification task\",\n",
    "  \"c. multiclass classification task\",\n",
    "  \"d. regression task\",\n",
    "],\n",
    "correctAnswers: [b. multilabel classification task],\n",
    "\n",
    "\n",
    "=== EXAMPLE OUTPUT ===\n",
    "  id: \"q2\",\n",
    "  courseId: \"{courseId}\",\n",
    "  source: \"{source}\",\n",
    "  year: \"{year}\",\n",
    "  topics: [\"Machine Learning\", \"Classification\"],\n",
    "  type: \"MultipleChoice\",\n",
    "    question:\n",
    "    \"<h3>You want to predict if the current image contains a traffic sign, a car, or a street. For each of the three objects, a prediction should be made. All three objects may occur in the image at the same time. This is a</h3>\",\n",
    "  options: [\n",
    "    \"a. binary classification task\",\n",
    "    \"b. multilabel classification task\",\n",
    "    \"c. multiclass classification task\",\n",
    "    \"d. regression task\",\n",
    "  ],\n",
    "  correctAnswer: [b. multilabel classification task],\n",
    "\n",
    "Please dont add ```json at the start and end of the JSON object.\n",
    "\"\"\"\n",
    "\n",
    "# def get_csv_from_json(question: str) -> dict:\n",
    "#     response = client.chat.completions.create(\n",
    "#             model=\"gpt-4o\",\n",
    "#             temperature=0,\n",
    "#             messages=[\n",
    "#                 {\"role\": \"system\", \"content\": INSTRUCTIONS_PROMPT},\n",
    "#                 {\n",
    "#                 \"role\": \"user\",\n",
    "#                 \"content\": question\n",
    "#                 }\n",
    "#             ],\n",
    "#         )\n",
    "\n",
    "#     return response.choices[0].message.content"
   ]
  },
  {
   "cell_type": "code",
   "execution_count": 8,
   "metadata": {},
   "outputs": [],
   "source": [
    "result = question_model.invoke({\"prompt\": INSTRUCTIONS_PROMPT, \"question\": \"\"\"{\n",
    "      id: \"q2\",\n",
    "      question:\n",
    "        \"<h3>Which of the following statements are correct regarding TorchScript?</h3>\",\n",
    "      options: [\n",
    "        \"TorchScript creates serializable and optimizable models from PyTorch code.\",\n",
    "        \"With TorchScript, serialized models can be deployed in environments other than Python (e.g., C++).\",\n",
    "        \"Every TorchScript code is also valid Python code.\",\n",
    "        \"Every Python code is also valid TorchScript code.\",\n",
    "      ],\n",
    "      correctOptions: [\n",
    "        \"TorchScript creates serializable and optimizable models from PyTorch code.\",\n",
    "        \"With TorchScript, serialized models can be deployed in environments other than Python (e.g., C++).\",\n",
    "        \"Every TorchScript code is also valid Python code.\",\n",
    "      ],\n",
    "    },\"\"\"})"
   ]
  },
  {
   "cell_type": "code",
   "execution_count": 9,
   "metadata": {},
   "outputs": [
    {
     "data": {
      "text/plain": [
       "{'id': 'q2',\n",
       " 'courseId': 'qaGEDqLkQZwb34UTsHOf',\n",
       " 'source': 'Exam',\n",
       " 'year': '2024',\n",
       " 'topics': ['Neural Network inference', 'Classification'],\n",
       " 'type': 'MultipleChoice',\n",
       " 'question': '<h3>You want to predict if the current image contains a traffic sign, a car, or a street. For each of the three objects, a prediction should be made. All three objects may occur in the image at the same time. This is a</h3>',\n",
       " 'options': ['a. binary classification task',\n",
       "  'b. multilabel classification task',\n",
       "  'c. multiclass classification task',\n",
       "  'd. regression task'],\n",
       " 'correctAnswer': ['b. multilabel classification task']}"
      ]
     },
     "execution_count": 9,
     "metadata": {},
     "output_type": "execute_result"
    }
   ],
   "source": [
    "json_result = json.loads(result)\n",
    "json_result"
   ]
  },
  {
   "cell_type": "code",
   "execution_count": 10,
   "metadata": {},
   "outputs": [],
   "source": [
    "questions = []"
   ]
  },
  {
   "cell_type": "code",
   "execution_count": 16,
   "metadata": {},
   "outputs": [],
   "source": [
    "with open(\"2024.json\", \"r\") as file:\n",
    "    questions = json.load(file)"
   ]
  },
  {
   "cell_type": "code",
   "execution_count": 17,
   "metadata": {},
   "outputs": [
    {
     "name": "stdout",
     "output_type": "stream",
     "text": [
      "1/41\n",
      "2/41\n",
      "3/41\n",
      "4/41\n",
      "5/41\n",
      "6/41\n",
      "7/41\n",
      "8/41\n",
      "9/41\n",
      "10/41\n",
      "11/41\n",
      "12/41\n",
      "13/41\n",
      "14/41\n",
      "15/41\n",
      "16/41\n",
      "17/41\n",
      "18/41\n",
      "19/41\n",
      "20/41\n",
      "21/41\n",
      "22/41\n",
      "23/41\n",
      "24/41\n",
      "25/41\n",
      "26/41\n",
      "27/41\n",
      "28/41\n",
      "29/41\n",
      "30/41\n",
      "31/41\n",
      "32/41\n",
      "33/41\n",
      "34/41\n",
      "35/41\n",
      "36/41\n",
      "37/41\n",
      "38/41\n",
      "39/41\n",
      "40/41\n"
     ]
    },
    {
     "ename": "JSONDecodeError",
     "evalue": "Expecting ',' delimiter: line 20 column 1 (char 999)",
     "output_type": "error",
     "traceback": [
      "\u001b[1;31m---------------------------------------------------------------------------\u001b[0m",
      "\u001b[1;31mJSONDecodeError\u001b[0m                           Traceback (most recent call last)",
      "Cell \u001b[1;32mIn[17], line 5\u001b[0m\n\u001b[0;32m      3\u001b[0m \u001b[38;5;28;01mfor\u001b[39;00m index, q \u001b[38;5;129;01min\u001b[39;00m \u001b[38;5;28menumerate\u001b[39m(questions):\n\u001b[0;32m      4\u001b[0m     result \u001b[38;5;241m=\u001b[39m question_model\u001b[38;5;241m.\u001b[39minvoke({\u001b[38;5;124m\"\u001b[39m\u001b[38;5;124mprompt\u001b[39m\u001b[38;5;124m\"\u001b[39m: INSTRUCTIONS_PROMPT, \u001b[38;5;124m\"\u001b[39m\u001b[38;5;124mquestion\u001b[39m\u001b[38;5;124m\"\u001b[39m: json\u001b[38;5;241m.\u001b[39mdumps(q)})\n\u001b[1;32m----> 5\u001b[0m     generated_questions\u001b[38;5;241m.\u001b[39mappend(\u001b[43mjson\u001b[49m\u001b[38;5;241;43m.\u001b[39;49m\u001b[43mloads\u001b[49m\u001b[43m(\u001b[49m\u001b[43mresult\u001b[49m\u001b[43m)\u001b[49m)\n\u001b[0;32m      6\u001b[0m     \u001b[38;5;28mprint\u001b[39m(\u001b[38;5;124mf\u001b[39m\u001b[38;5;124m\"\u001b[39m\u001b[38;5;132;01m{\u001b[39;00mindex\u001b[38;5;250m \u001b[39m\u001b[38;5;241m+\u001b[39m\u001b[38;5;250m \u001b[39m\u001b[38;5;241m1\u001b[39m\u001b[38;5;132;01m}\u001b[39;00m\u001b[38;5;124m/\u001b[39m\u001b[38;5;132;01m{\u001b[39;00m\u001b[38;5;28mlen\u001b[39m(questions)\u001b[38;5;132;01m}\u001b[39;00m\u001b[38;5;124m\"\u001b[39m)\n",
      "File \u001b[1;32mc:\\Python312\\Lib\\json\\__init__.py:346\u001b[0m, in \u001b[0;36mloads\u001b[1;34m(s, cls, object_hook, parse_float, parse_int, parse_constant, object_pairs_hook, **kw)\u001b[0m\n\u001b[0;32m    341\u001b[0m     s \u001b[38;5;241m=\u001b[39m s\u001b[38;5;241m.\u001b[39mdecode(detect_encoding(s), \u001b[38;5;124m'\u001b[39m\u001b[38;5;124msurrogatepass\u001b[39m\u001b[38;5;124m'\u001b[39m)\n\u001b[0;32m    343\u001b[0m \u001b[38;5;28;01mif\u001b[39;00m (\u001b[38;5;28mcls\u001b[39m \u001b[38;5;129;01mis\u001b[39;00m \u001b[38;5;28;01mNone\u001b[39;00m \u001b[38;5;129;01mand\u001b[39;00m object_hook \u001b[38;5;129;01mis\u001b[39;00m \u001b[38;5;28;01mNone\u001b[39;00m \u001b[38;5;129;01mand\u001b[39;00m\n\u001b[0;32m    344\u001b[0m         parse_int \u001b[38;5;129;01mis\u001b[39;00m \u001b[38;5;28;01mNone\u001b[39;00m \u001b[38;5;129;01mand\u001b[39;00m parse_float \u001b[38;5;129;01mis\u001b[39;00m \u001b[38;5;28;01mNone\u001b[39;00m \u001b[38;5;129;01mand\u001b[39;00m\n\u001b[0;32m    345\u001b[0m         parse_constant \u001b[38;5;129;01mis\u001b[39;00m \u001b[38;5;28;01mNone\u001b[39;00m \u001b[38;5;129;01mand\u001b[39;00m object_pairs_hook \u001b[38;5;129;01mis\u001b[39;00m \u001b[38;5;28;01mNone\u001b[39;00m \u001b[38;5;129;01mand\u001b[39;00m \u001b[38;5;129;01mnot\u001b[39;00m kw):\n\u001b[1;32m--> 346\u001b[0m     \u001b[38;5;28;01mreturn\u001b[39;00m \u001b[43m_default_decoder\u001b[49m\u001b[38;5;241;43m.\u001b[39;49m\u001b[43mdecode\u001b[49m\u001b[43m(\u001b[49m\u001b[43ms\u001b[49m\u001b[43m)\u001b[49m\n\u001b[0;32m    347\u001b[0m \u001b[38;5;28;01mif\u001b[39;00m \u001b[38;5;28mcls\u001b[39m \u001b[38;5;129;01mis\u001b[39;00m \u001b[38;5;28;01mNone\u001b[39;00m:\n\u001b[0;32m    348\u001b[0m     \u001b[38;5;28mcls\u001b[39m \u001b[38;5;241m=\u001b[39m JSONDecoder\n",
      "File \u001b[1;32mc:\\Python312\\Lib\\json\\decoder.py:337\u001b[0m, in \u001b[0;36mJSONDecoder.decode\u001b[1;34m(self, s, _w)\u001b[0m\n\u001b[0;32m    332\u001b[0m \u001b[38;5;28;01mdef\u001b[39;00m \u001b[38;5;21mdecode\u001b[39m(\u001b[38;5;28mself\u001b[39m, s, _w\u001b[38;5;241m=\u001b[39mWHITESPACE\u001b[38;5;241m.\u001b[39mmatch):\n\u001b[0;32m    333\u001b[0m \u001b[38;5;250m    \u001b[39m\u001b[38;5;124;03m\"\"\"Return the Python representation of ``s`` (a ``str`` instance\u001b[39;00m\n\u001b[0;32m    334\u001b[0m \u001b[38;5;124;03m    containing a JSON document).\u001b[39;00m\n\u001b[0;32m    335\u001b[0m \n\u001b[0;32m    336\u001b[0m \u001b[38;5;124;03m    \"\"\"\u001b[39;00m\n\u001b[1;32m--> 337\u001b[0m     obj, end \u001b[38;5;241m=\u001b[39m \u001b[38;5;28;43mself\u001b[39;49m\u001b[38;5;241;43m.\u001b[39;49m\u001b[43mraw_decode\u001b[49m\u001b[43m(\u001b[49m\u001b[43ms\u001b[49m\u001b[43m,\u001b[49m\u001b[43m \u001b[49m\u001b[43midx\u001b[49m\u001b[38;5;241;43m=\u001b[39;49m\u001b[43m_w\u001b[49m\u001b[43m(\u001b[49m\u001b[43ms\u001b[49m\u001b[43m,\u001b[49m\u001b[43m \u001b[49m\u001b[38;5;241;43m0\u001b[39;49m\u001b[43m)\u001b[49m\u001b[38;5;241;43m.\u001b[39;49m\u001b[43mend\u001b[49m\u001b[43m(\u001b[49m\u001b[43m)\u001b[49m\u001b[43m)\u001b[49m\n\u001b[0;32m    338\u001b[0m     end \u001b[38;5;241m=\u001b[39m _w(s, end)\u001b[38;5;241m.\u001b[39mend()\n\u001b[0;32m    339\u001b[0m     \u001b[38;5;28;01mif\u001b[39;00m end \u001b[38;5;241m!=\u001b[39m \u001b[38;5;28mlen\u001b[39m(s):\n",
      "File \u001b[1;32mc:\\Python312\\Lib\\json\\decoder.py:353\u001b[0m, in \u001b[0;36mJSONDecoder.raw_decode\u001b[1;34m(self, s, idx)\u001b[0m\n\u001b[0;32m    344\u001b[0m \u001b[38;5;250m\u001b[39m\u001b[38;5;124;03m\"\"\"Decode a JSON document from ``s`` (a ``str`` beginning with\u001b[39;00m\n\u001b[0;32m    345\u001b[0m \u001b[38;5;124;03ma JSON document) and return a 2-tuple of the Python\u001b[39;00m\n\u001b[0;32m    346\u001b[0m \u001b[38;5;124;03mrepresentation and the index in ``s`` where the document ended.\u001b[39;00m\n\u001b[1;32m   (...)\u001b[0m\n\u001b[0;32m    350\u001b[0m \n\u001b[0;32m    351\u001b[0m \u001b[38;5;124;03m\"\"\"\u001b[39;00m\n\u001b[0;32m    352\u001b[0m \u001b[38;5;28;01mtry\u001b[39;00m:\n\u001b[1;32m--> 353\u001b[0m     obj, end \u001b[38;5;241m=\u001b[39m \u001b[38;5;28;43mself\u001b[39;49m\u001b[38;5;241;43m.\u001b[39;49m\u001b[43mscan_once\u001b[49m\u001b[43m(\u001b[49m\u001b[43ms\u001b[49m\u001b[43m,\u001b[49m\u001b[43m \u001b[49m\u001b[43midx\u001b[49m\u001b[43m)\u001b[49m\n\u001b[0;32m    354\u001b[0m \u001b[38;5;28;01mexcept\u001b[39;00m \u001b[38;5;167;01mStopIteration\u001b[39;00m \u001b[38;5;28;01mas\u001b[39;00m err:\n\u001b[0;32m    355\u001b[0m     \u001b[38;5;28;01mraise\u001b[39;00m JSONDecodeError(\u001b[38;5;124m\"\u001b[39m\u001b[38;5;124mExpecting value\u001b[39m\u001b[38;5;124m\"\u001b[39m, s, err\u001b[38;5;241m.\u001b[39mvalue) \u001b[38;5;28;01mfrom\u001b[39;00m \u001b[38;5;28;01mNone\u001b[39;00m\n",
      "\u001b[1;31mJSONDecodeError\u001b[0m: Expecting ',' delimiter: line 20 column 1 (char 999)"
     ]
    }
   ],
   "source": [
    "generated_questions = []\n",
    "\n",
    "for index, q in enumerate(questions):\n",
    "    result = question_model.invoke({\"prompt\": INSTRUCTIONS_PROMPT, \"question\": json.dumps(q)})\n",
    "    generated_questions.append(json.loads(result))\n",
    "    print(f\"{index + 1}/{len(questions)}\")"
   ]
  },
  {
   "cell_type": "code",
   "execution_count": 18,
   "metadata": {},
   "outputs": [],
   "source": [
    "with open(\"generated_questions.json\", \"w\") as file:\n",
    "    json.dump(generated_questions, file)"
   ]
  },
  {
   "cell_type": "code",
   "execution_count": null,
   "metadata": {},
   "outputs": [],
   "source": []
  }
 ],
 "metadata": {
  "kernelspec": {
   "display_name": "Python 3",
   "language": "python",
   "name": "python3"
  },
  "language_info": {
   "codemirror_mode": {
    "name": "ipython",
    "version": 3
   },
   "file_extension": ".py",
   "mimetype": "text/x-python",
   "name": "python",
   "nbconvert_exporter": "python",
   "pygments_lexer": "ipython3",
   "version": "3.12.1"
  }
 },
 "nbformat": 4,
 "nbformat_minor": 2
}
